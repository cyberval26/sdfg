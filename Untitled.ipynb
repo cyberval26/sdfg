{
 "cells": [
  {
   "cell_type": "code",
   "execution_count": 2,
   "id": "c9d11c33",
   "metadata": {},
   "outputs": [],
   "source": [
    "import cv2\n",
    "import mediapipe as mp\n",
    "import numpy as np\n",
    "import time"
   ]
  },
  {
   "cell_type": "code",
   "execution_count": 3,
   "id": "240f6735",
   "metadata": {},
   "outputs": [],
   "source": [
    "mp_drawing = mp.solutions.drawing_utils\n",
    "mp_selfie_segmentation = mp.solutions.selfie_segmentation"
   ]
  },
  {
   "cell_type": "code",
   "execution_count": 4,
   "id": "7272f70b",
   "metadata": {},
   "outputs": [],
   "source": [
    "BG_COLOR = (192,192,192) #gray"
   ]
  },
  {
   "cell_type": "code",
   "execution_count": 5,
   "id": "c5da1958",
   "metadata": {},
   "outputs": [],
   "source": [
    "cap = cv2.VideoCapture(2)"
   ]
  },
  {
   "cell_type": "code",
   "execution_count": null,
   "id": "f231aad7",
   "metadata": {},
   "outputs": [],
   "source": [
    "with mp.solutions.selfie_segmentation.SelfieSegmentation(model_selection=0) as selfie_segmentation:\n",
    "    bg_image = None\n",
    "    \n",
    "while cap.isOpened():\n",
    "    success,image = cap.read()\n",
    "    if not success:\n",
    "        print(\"Ignoring empty camera frame.\")\n",
    "        \n",
    "        start = time.time()"
   ]
  },
  {
   "cell_type": "code",
   "execution_count": null,
   "id": "c2817688",
   "metadata": {},
   "outputs": [],
   "source": [
    "image = cv2.cvtColor(cv2.flip(image,1), cv2.COLOR_BGR2RGB)"
   ]
  },
  {
   "cell_type": "code",
   "execution_count": null,
   "id": "600481b4",
   "metadata": {},
   "outputs": [],
   "source": [
    "image.flags.writeable = False"
   ]
  },
  {
   "cell_type": "code",
   "execution_count": null,
   "id": "fba41031",
   "metadata": {},
   "outputs": [],
   "source": [
    "results = selfie_segmentation.process(image)\n",
    "cv2.imshow('Segmentation Mask', results.segmentation_mask)\n",
    "\n",
    "image.flags.writeable = True"
   ]
  },
  {
   "cell_type": "code",
   "execution_count": null,
   "id": "c6afde1e",
   "metadata": {},
   "outputs": [],
   "source": [
    "image = cv2.cvtColor(image, cv2.COLOR_RGB2BGR)"
   ]
  },
  {
   "cell_type": "code",
   "execution_count": null,
   "id": "bee54a1e",
   "metadata": {},
   "outputs": [],
   "source": [
    "condition = np.stack((results.segmentation_mask,)*3, axis=-1) >0.15"
   ]
  },
  {
   "cell_type": "code",
   "execution_count": null,
   "id": "ffc21bec",
   "metadata": {},
   "outputs": [],
   "source": [
    "#if bg_image is None:\n",
    "#    bg_image = cv2. GaussianBlur(image,(55,55),0)\n",
    "if bg_image is None:\n",
    "    bg_image = np.zeros(image.shape, dtype=np.uint8)\n",
    "    bg_image[:] = BG_COLOR"
   ]
  },
  {
   "cell_type": "code",
   "execution_count": null,
   "id": "cd231812",
   "metadata": {},
   "outputs": [],
   "source": [
    "output_image = np.where(condition, image, bg_image)"
   ]
  },
  {
   "cell_type": "code",
   "execution_count": null,
   "id": "aba9b70b",
   "metadata": {},
   "outputs": [],
   "source": [
    "end = time.time()\n",
    "totalTime = end - start"
   ]
  },
  {
   "cell_type": "code",
   "execution_count": null,
   "id": "6fdb6ba7",
   "metadata": {},
   "outputs": [],
   "source": [
    "fps = 1/totalTime\n",
    "print(\"FPS: \",fps)"
   ]
  },
  {
   "cell_type": "code",
   "execution_count": null,
   "id": "78482777",
   "metadata": {},
   "outputs": [],
   "source": [
    "cv2.putText(output_image, f'FPS: {int(fps)}', (20,70), cv2.FONT_HERSHEY_SIMPLEX, 1.5, (0,255,0), 2)\n",
    "cv2.imshow('MediaPipe Selfie Segmentation', output_image)"
   ]
  },
  {
   "cell_type": "code",
   "execution_count": null,
   "id": "4828d05a",
   "metadata": {},
   "outputs": [],
   "source": [
    "if cv2.waitKey(5) & 0xFF == 27:\n",
    "    break"
   ]
  },
  {
   "cell_type": "code",
   "execution_count": null,
   "id": "c395d17b",
   "metadata": {},
   "outputs": [],
   "source": [
    "cap.release()"
   ]
  },
  {
   "cell_type": "code",
   "execution_count": null,
   "id": "fef09d5d",
   "metadata": {},
   "outputs": [],
   "source": []
  }
 ],
 "metadata": {
  "kernelspec": {
   "display_name": "Python 3 (ipykernel)",
   "language": "python",
   "name": "python3"
  },
  "language_info": {
   "codemirror_mode": {
    "name": "ipython",
    "version": 3
   },
   "file_extension": ".py",
   "mimetype": "text/x-python",
   "name": "python",
   "nbconvert_exporter": "python",
   "pygments_lexer": "ipython3",
   "version": "3.9.12"
  }
 },
 "nbformat": 4,
 "nbformat_minor": 5
}
